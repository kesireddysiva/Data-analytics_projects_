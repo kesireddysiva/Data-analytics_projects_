{
  "nbformat": 4,
  "nbformat_minor": 0,
  "metadata": {
    "colab": {
      "provenance": [],
      "authorship_tag": "ABX9TyPa0wnS3QHXB/JCtmaa05TM",
      "include_colab_link": true
    },
    "kernelspec": {
      "name": "python3",
      "display_name": "Python 3"
    },
    "language_info": {
      "name": "python"
    }
  },
  "cells": [
    {
      "cell_type": "markdown",
      "metadata": {
        "id": "view-in-github",
        "colab_type": "text"
      },
      "source": [
        "<a href=\"https://colab.research.google.com/github/kesireddysiva/Data-analytics_projects_/blob/main/Assignment1(bigdata).ipynb\" target=\"_parent\"><img src=\"https://colab.research.google.com/assets/colab-badge.svg\" alt=\"Open In Colab\"/></a>"
      ]
    },
    {
      "cell_type": "markdown",
      "source": [
        "Part 1: Basic Python Syntax"
      ],
      "metadata": {
        "id": "THe4eGigMEqY"
      }
    },
    {
      "cell_type": "code",
      "source": [
        "var = \"Hello, world!\""
      ],
      "metadata": {
        "id": "-3ASPhIgI2_K"
      },
      "execution_count": 174,
      "outputs": []
    },
    {
      "cell_type": "code",
      "source": [
        "print(len(var))"
      ],
      "metadata": {
        "colab": {
          "base_uri": "https://localhost:8080/",
          "height": 0
        },
        "id": "F4sa2iH7JCy-",
        "outputId": "0e5028f9-be2f-4096-bfa5-28900aeb1f6d"
      },
      "execution_count": 175,
      "outputs": [
        {
          "output_type": "stream",
          "name": "stdout",
          "text": [
            "13\n"
          ]
        }
      ]
    },
    {
      "cell_type": "code",
      "source": [
        "var = \"Hello, world!\"\n",
        "A = var[7:12]\n",
        "print(A)"
      ],
      "metadata": {
        "colab": {
          "base_uri": "https://localhost:8080/",
          "height": 0
        },
        "id": "I52A3MwHJ83T",
        "outputId": "e40bba36-5fcd-4a9f-ef15-c600367e7a82"
      },
      "execution_count": 176,
      "outputs": [
        {
          "output_type": "stream",
          "name": "stdout",
          "text": [
            "world\n"
          ]
        }
      ]
    },
    {
      "cell_type": "code",
      "source": [
        "print(type(1))    # Integer\n",
        "print(type(1.0))  # Float\n",
        "print(type(\"1\"))  # String\n"
      ],
      "metadata": {
        "colab": {
          "base_uri": "https://localhost:8080/",
          "height": 0
        },
        "id": "OCaSsvJGK2Ig",
        "outputId": "2860b698-1807-41be-8566-41c6cdfe5b3a"
      },
      "execution_count": 177,
      "outputs": [
        {
          "output_type": "stream",
          "name": "stdout",
          "text": [
            "<class 'int'>\n",
            "<class 'float'>\n",
            "<class 'str'>\n"
          ]
        }
      ]
    },
    {
      "cell_type": "code",
      "source": [
        "for num in range(9, -1, -1):\n",
        "    print(num)"
      ],
      "metadata": {
        "colab": {
          "base_uri": "https://localhost:8080/",
          "height": 0
        },
        "id": "lQLhWQyJLFa1",
        "outputId": "1ea463e8-e532-4da1-e23e-4b27bd5aaef5"
      },
      "execution_count": 178,
      "outputs": [
        {
          "output_type": "stream",
          "name": "stdout",
          "text": [
            "9\n",
            "8\n",
            "7\n",
            "6\n",
            "5\n",
            "4\n",
            "3\n",
            "2\n",
            "1\n",
            "0\n"
          ]
        }
      ]
    },
    {
      "cell_type": "code",
      "source": [
        "import math\n",
        "\n",
        "radius = 5\n",
        "area = math.pi * radius**2\n",
        "print(f\"Area of the circle: {area:.2f}\")\n"
      ],
      "metadata": {
        "colab": {
          "base_uri": "https://localhost:8080/",
          "height": 0
        },
        "id": "2LfbIjcJK15A",
        "outputId": "1abffc76-0b68-451a-cb42-9db51291da46"
      },
      "execution_count": 179,
      "outputs": [
        {
          "output_type": "stream",
          "name": "stdout",
          "text": [
            "Area of the circle: 78.54\n"
          ]
        }
      ]
    },
    {
      "cell_type": "code",
      "source": [
        "for num in range(9, 22, 2):\n",
        "    print(num)\n"
      ],
      "metadata": {
        "colab": {
          "base_uri": "https://localhost:8080/",
          "height": 0
        },
        "id": "N6ApkAi9LNKP",
        "outputId": "40313d45-92fa-4011-aa37-ea13e454c701"
      },
      "execution_count": 180,
      "outputs": [
        {
          "output_type": "stream",
          "name": "stdout",
          "text": [
            "9\n",
            "11\n",
            "13\n",
            "15\n",
            "17\n",
            "19\n",
            "21\n"
          ]
        }
      ]
    },
    {
      "cell_type": "code",
      "source": [
        "import builtins\n",
        "input = builtins.input\n",
        "\n",
        "c = int(input(\"Enter a number: \"))\n",
        "\n",
        "if c > 8:\n",
        "    if c == 10:\n",
        "        print(\"Equal to 10\")\n",
        "    else:\n",
        "        print(\"Greater than 8\")\n",
        "elif c < 9:\n",
        "    print(\"Less than 9\")\n",
        "else:\n",
        "    print(\"Equal to 10\")\n",
        "\n"
      ],
      "metadata": {
        "colab": {
          "base_uri": "https://localhost:8080/",
          "height": 0
        },
        "id": "EVkHO-oELMyN",
        "outputId": "5930474c-70bf-4f1a-d9d9-9aa32cb3fbea"
      },
      "execution_count": 181,
      "outputs": [
        {
          "output_type": "stream",
          "name": "stdout",
          "text": [
            "Enter a number: 8\n",
            "Less than 9\n"
          ]
        }
      ]
    },
    {
      "cell_type": "code",
      "source": [
        "def get_string_length(s):\n",
        "    return len(s)\n",
        "user_string = input(\"Enter a string: \")\n",
        "length = get_string_length(user_string)\n",
        "print(f\"The length of the string is: {length}\")"
      ],
      "metadata": {
        "colab": {
          "base_uri": "https://localhost:8080/",
          "height": 0
        },
        "id": "ypuU5VYhLrox",
        "outputId": "3eaad3c9-c978-43f5-f6a0-fe0cf13f1dac"
      },
      "execution_count": 182,
      "outputs": [
        {
          "output_type": "stream",
          "name": "stdout",
          "text": [
            "Enter a string: uu\n",
            "The length of the string is: 2\n"
          ]
        }
      ]
    },
    {
      "cell_type": "code",
      "source": [
        "def print_odd_numbers(n):\n",
        "    if n <= 1:\n",
        "        print(\"No odd numbers in this range.\")\n",
        "        return\n",
        "    for number in range(1, n):\n",
        "        if number % 2 != 0:\n",
        "            print(number)\n",
        "n = int(input(\"Enter a positive integer: \"))\n",
        "print_odd_numbers(n)\n"
      ],
      "metadata": {
        "colab": {
          "base_uri": "https://localhost:8080/",
          "height": 0
        },
        "id": "ltpKgnRfL2NP",
        "outputId": "33b1e6c6-a82a-4ed4-dabe-a6769e8c5861"
      },
      "execution_count": 183,
      "outputs": [
        {
          "output_type": "stream",
          "name": "stdout",
          "text": [
            "Enter a positive integer: 8\n",
            "1\n",
            "3\n",
            "5\n",
            "7\n"
          ]
        }
      ]
    },
    {
      "cell_type": "markdown",
      "source": [
        "Part 2: File Handling"
      ],
      "metadata": {
        "id": "1AzVVOUZMVr4"
      }
    },
    {
      "cell_type": "code",
      "execution_count": 184,
      "metadata": {
        "colab": {
          "base_uri": "https://localhost:8080/",
          "height": 0
        },
        "id": "H6uLtPA-wJtH",
        "outputId": "4c291c21-47ee-4223-912b-f2a2e4ae8649"
      },
      "outputs": [
        {
          "output_type": "stream",
          "name": "stdout",
          "text": [
            "File unzipped: /content/gencode.v43.pc_transcripts.fa\n",
            "Length of first sequence: 2618\n",
            "Temporary unzipped file removed.\n",
            "\n",
            "Occurrences of CG, GC, and AT:\n",
            "AT: position 5\n",
            "AT: position 20\n",
            "GC: position 22\n",
            "AT: position 27\n",
            "AT: position 38\n",
            "GC: position 41\n",
            "AT: position 60\n",
            "GC: position 75\n",
            "GC: position 81\n",
            "AT: position 84\n",
            "AT: position 94\n",
            "AT: position 98\n",
            "CG: position 103\n",
            "CG: position 112\n",
            "AT: position 115\n",
            "AT: position 123\n",
            "AT: position 134\n",
            "AT: position 138\n",
            "AT: position 157\n",
            "AT: position 182\n",
            "AT: position 186\n",
            "AT: position 200\n",
            "AT: position 205\n",
            "AT: position 213\n",
            "CG: position 215\n",
            "AT: position 234\n",
            "AT: position 240\n",
            "AT: position 251\n",
            "AT: position 276\n",
            "GC: position 287\n",
            "GC: position 291\n",
            "AT: position 306\n",
            "AT: position 310\n",
            "GC: position 333\n",
            "AT: position 342\n",
            "AT: position 345\n",
            "GC: position 361\n",
            "GC: position 365\n",
            "CG: position 366\n",
            "GC: position 367\n",
            "AT: position 375\n",
            "GC: position 388\n",
            "GC: position 391\n",
            "AT: position 402\n",
            "AT: position 404\n",
            "AT: position 435\n",
            "AT: position 441\n",
            "AT: position 447\n",
            "GC: position 450\n",
            "AT: position 453\n",
            "GC: position 457\n",
            "AT: position 467\n",
            "AT: position 469\n",
            "AT: position 471\n",
            "GC: position 474\n",
            "AT: position 477\n",
            "AT: position 479\n",
            "GC: position 481\n",
            "GC: position 485\n",
            "AT: position 504\n",
            "AT: position 507\n",
            "GC: position 514\n",
            "CG: position 518\n",
            "GC: position 519\n",
            "AT: position 521\n",
            "CG: position 527\n",
            "GC: position 529\n",
            "AT: position 531\n",
            "AT: position 534\n",
            "GC: position 537\n",
            "AT: position 545\n",
            "AT: position 552\n",
            "GC: position 556\n",
            "AT: position 565\n",
            "CG: position 568\n",
            "GC: position 574\n",
            "GC: position 582\n",
            "CG: position 583\n",
            "GC: position 588\n",
            "CG: position 590\n",
            "GC: position 593\n",
            "AT: position 616\n",
            "CG: position 623\n",
            "AT: position 625\n",
            "AT: position 634\n",
            "AT: position 654\n",
            "GC: position 663\n",
            "AT: position 673\n",
            "GC: position 683\n",
            "AT: position 688\n",
            "AT: position 690\n",
            "AT: position 693\n",
            "AT: position 699\n",
            "GC: position 702\n",
            "GC: position 716\n",
            "AT: position 744\n",
            "AT: position 747\n",
            "AT: position 752\n",
            "AT: position 759\n",
            "AT: position 762\n",
            "AT: position 768\n",
            "AT: position 774\n",
            "GC: position 779\n",
            "AT: position 781\n",
            "CG: position 783\n",
            "GC: position 784\n",
            "AT: position 793\n",
            "CG: position 799\n",
            "GC: position 807\n",
            "GC: position 825\n",
            "AT: position 831\n",
            "AT: position 860\n",
            "AT: position 870\n",
            "AT: position 874\n",
            "GC: position 876\n",
            "GC: position 881\n",
            "AT: position 884\n",
            "AT: position 891\n",
            "AT: position 899\n",
            "AT: position 904\n",
            "AT: position 908\n",
            "GC: position 915\n",
            "AT: position 920\n",
            "AT: position 925\n",
            "AT: position 933\n",
            "AT: position 954\n",
            "AT: position 957\n",
            "AT: position 959\n",
            "AT: position 981\n",
            "CG: position 988\n",
            "GC: position 990\n",
            "AT: position 993\n",
            "GC: position 1001\n",
            "AT: position 1010\n",
            "AT: position 1015\n",
            "GC: position 1017\n",
            "AT: position 1021\n",
            "AT: position 1041\n",
            "AT: position 1046\n",
            "AT: position 1048\n",
            "AT: position 1059\n",
            "AT: position 1063\n",
            "AT: position 1070\n",
            "AT: position 1073\n",
            "AT: position 1083\n",
            "AT: position 1085\n",
            "AT: position 1104\n",
            "GC: position 1114\n",
            "AT: position 1118\n",
            "AT: position 1124\n",
            "GC: position 1129\n",
            "AT: position 1136\n",
            "AT: position 1142\n",
            "AT: position 1144\n",
            "AT: position 1147\n",
            "AT: position 1155\n",
            "AT: position 1174\n",
            "AT: position 1178\n",
            "GC: position 1181\n",
            "AT: position 1187\n",
            "AT: position 1191\n",
            "AT: position 1213\n",
            "AT: position 1215\n",
            "AT: position 1223\n",
            "AT: position 1229\n",
            "AT: position 1239\n",
            "AT: position 1242\n",
            "GC: position 1244\n",
            "AT: position 1253\n",
            "AT: position 1255\n",
            "GC: position 1263\n",
            "AT: position 1267\n",
            "GC: position 1286\n",
            "AT: position 1288\n",
            "AT: position 1292\n",
            "AT: position 1294\n",
            "AT: position 1296\n",
            "AT: position 1302\n",
            "AT: position 1362\n",
            "AT: position 1364\n",
            "GC: position 1367\n",
            "GC: position 1372\n",
            "AT: position 1376\n",
            "AT: position 1380\n",
            "AT: position 1392\n",
            "AT: position 1396\n",
            "AT: position 1405\n",
            "AT: position 1419\n",
            "AT: position 1438\n",
            "AT: position 1444\n",
            "AT: position 1453\n",
            "AT: position 1455\n",
            "AT: position 1457\n",
            "GC: position 1459\n",
            "AT: position 1475\n",
            "AT: position 1477\n",
            "AT: position 1479\n",
            "CG: position 1509\n",
            "GC: position 1510\n",
            "AT: position 1517\n",
            "AT: position 1520\n",
            "AT: position 1528\n",
            "AT: position 1548\n",
            "AT: position 1561\n",
            "AT: position 1565\n",
            "GC: position 1571\n",
            "AT: position 1573\n",
            "AT: position 1576\n",
            "GC: position 1603\n",
            "AT: position 1607\n",
            "AT: position 1614\n",
            "GC: position 1618\n",
            "CG: position 1635\n",
            "AT: position 1645\n",
            "GC: position 1651\n",
            "AT: position 1655\n",
            "GC: position 1659\n",
            "AT: position 1671\n",
            "AT: position 1681\n",
            "GC: position 1687\n",
            "AT: position 1693\n",
            "CG: position 1697\n",
            "GC: position 1702\n",
            "AT: position 1711\n",
            "AT: position 1713\n",
            "AT: position 1722\n",
            "AT: position 1726\n",
            "AT: position 1730\n",
            "AT: position 1735\n",
            "AT: position 1742\n",
            "AT: position 1749\n",
            "GC: position 1759\n",
            "GC: position 1765\n",
            "GC: position 1787\n",
            "AT: position 1792\n",
            "AT: position 1812\n",
            "AT: position 1816\n",
            "AT: position 1819\n",
            "AT: position 1822\n",
            "GC: position 1829\n",
            "AT: position 1833\n",
            "CG: position 1837\n",
            "GC: position 1841\n",
            "AT: position 1847\n",
            "GC: position 1851\n",
            "AT: position 1865\n",
            "AT: position 1869\n",
            "AT: position 1880\n",
            "AT: position 1883\n",
            "AT: position 1889\n",
            "AT: position 1892\n",
            "GC: position 1894\n",
            "AT: position 1896\n",
            "AT: position 1902\n",
            "AT: position 1905\n",
            "AT: position 1915\n",
            "AT: position 1923\n",
            "AT: position 1927\n",
            "AT: position 1929\n",
            "AT: position 1933\n",
            "AT: position 1938\n",
            "GC: position 1941\n",
            "CG: position 1949\n",
            "AT: position 1955\n",
            "AT: position 1957\n",
            "GC: position 1962\n",
            "AT: position 1964\n",
            "AT: position 1968\n",
            "AT: position 1974\n",
            "AT: position 1979\n",
            "AT: position 1984\n",
            "AT: position 1990\n",
            "AT: position 1995\n",
            "AT: position 1997\n",
            "AT: position 1999\n",
            "GC: position 2008\n",
            "AT: position 2040\n",
            "AT: position 2051\n",
            "AT: position 2053\n",
            "AT: position 2060\n",
            "AT: position 2066\n",
            "AT: position 2076\n",
            "GC: position 2078\n",
            "AT: position 2082\n",
            "AT: position 2089\n",
            "AT: position 2116\n",
            "AT: position 2118\n",
            "GC: position 2126\n",
            "AT: position 2140\n",
            "AT: position 2142\n",
            "GC: position 2169\n",
            "AT: position 2171\n",
            "AT: position 2174\n",
            "AT: position 2180\n",
            "AT: position 2187\n",
            "AT: position 2198\n",
            "AT: position 2200\n",
            "AT: position 2204\n",
            "AT: position 2228\n",
            "AT: position 2231\n",
            "AT: position 2241\n",
            "AT: position 2243\n",
            "AT: position 2263\n",
            "GC: position 2271\n",
            "AT: position 2277\n",
            "AT: position 2282\n",
            "AT: position 2294\n",
            "AT: position 2296\n",
            "AT: position 2313\n",
            "AT: position 2328\n",
            "AT: position 2339\n",
            "AT: position 2343\n",
            "AT: position 2347\n",
            "AT: position 2361\n",
            "AT: position 2364\n",
            "AT: position 2378\n",
            "AT: position 2381\n",
            "AT: position 2387\n",
            "AT: position 2404\n",
            "AT: position 2411\n",
            "AT: position 2415\n",
            "GC: position 2419\n",
            "AT: position 2423\n",
            "AT: position 2434\n",
            "AT: position 2437\n",
            "AT: position 2450\n",
            "AT: position 2453\n",
            "AT: position 2456\n",
            "AT: position 2464\n",
            "AT: position 2471\n",
            "GC: position 2477\n",
            "GC: position 2490\n",
            "AT: position 2498\n",
            "AT: position 2503\n",
            "AT: position 2511\n",
            "AT: position 2514\n",
            "AT: position 2519\n",
            "GC: position 2522\n",
            "AT: position 2525\n",
            "AT: position 2527\n",
            "AT: position 2537\n",
            "AT: position 2539\n",
            "AT: position 2541\n",
            "AT: position 2546\n",
            "AT: position 2550\n",
            "GC: position 2554\n",
            "AT: position 2564\n",
            "GC: position 2566\n",
            "AT: position 2575\n",
            "AT: position 2587\n",
            "AT: position 2596\n",
            "\n",
            "Total occurrences found: 351\n"
          ]
        }
      ],
      "source": [
        "import gzip\n",
        "import os\n",
        "import re\n",
        "\n",
        "def extract_fasta_from_local(file_path):\n",
        "    # Unzip the file\n",
        "    unzipped_file = file_path.rsplit('.', 1)[0]\n",
        "    with gzip.open(file_path, 'rb') as f_in:\n",
        "        with open(unzipped_file, 'wb') as f_out:\n",
        "            f_out.write(f_in.read())\n",
        "    print(f\"File unzipped: {unzipped_file}\")\n",
        "\n",
        "    first_sequence = \"\"\n",
        "    with open(unzipped_file, 'r') as f:\n",
        "        for line in f:\n",
        "            if line.startswith('>'):\n",
        "                if first_sequence:\n",
        "                    break\n",
        "                continue\n",
        "            first_sequence += line.strip()\n",
        "\n",
        "    print(f\"Length of first sequence: {len(first_sequence)}\")\n",
        "\n",
        "    os.remove(unzipped_file)\n",
        "    print(\"Temporary unzipped file removed.\")\n",
        "\n",
        "    return first_sequence\n",
        "\n",
        "def find_patterns(sequence):\n",
        "    patterns = ['CG', 'GC', 'AT']\n",
        "    results = []\n",
        "\n",
        "    for pattern in patterns:\n",
        "        occurrences = [m.start() for m in re.finditer(f'(?={pattern})', sequence)]\n",
        "        for pos in occurrences:\n",
        "            results.append(f\"{pattern}: position {pos}\")\n",
        "\n",
        "    return sorted(results, key=lambda x: int(x.split()[-1]))\n",
        "\n",
        "file_path = r\"/content/gencode.v43.pc_transcripts.fa.gz\"\n",
        "\n",
        "first_seq = extract_fasta_from_local(file_path)\n",
        "\n",
        "occurrences = find_patterns(first_seq)\n",
        "\n",
        "print(\"\\nOccurrences of CG, GC, and AT:\")\n",
        "for occurrence in occurrences:\n",
        "    print(occurrence)\n",
        "\n",
        "print(f\"\\nTotal occurrences found: {len(occurrences)}\")"
      ]
    },
    {
      "cell_type": "code",
      "source": [
        "pip install biopython\n"
      ],
      "metadata": {
        "colab": {
          "base_uri": "https://localhost:8080/",
          "height": 0
        },
        "id": "1xMK3a8EFcC7",
        "outputId": "b0c1ef33-5b46-4786-80c0-058a54a3803c"
      },
      "execution_count": 185,
      "outputs": [
        {
          "output_type": "stream",
          "name": "stdout",
          "text": [
            "Requirement already satisfied: biopython in /usr/local/lib/python3.10/dist-packages (1.84)\n",
            "Requirement already satisfied: numpy in /usr/local/lib/python3.10/dist-packages (from biopython) (1.26.4)\n"
          ]
        }
      ]
    },
    {
      "cell_type": "markdown",
      "source": [
        "Part 3: Gene Class"
      ],
      "metadata": {
        "id": "1tIVPO4PMjvT"
      }
    },
    {
      "cell_type": "code",
      "source": [
        "class Gene:\n",
        "    def __init__(self, sequence):\n",
        "        self.sequence = sequence\n",
        "\n",
        "    def count_base_pair(self, base_pair):\n",
        "        return len(re.findall(f'(?={base_pair})', self.sequence))\n",
        "\n",
        "    def base_pair_percentage(self, base_pair):\n",
        "        count = self.count_base_pair(base_pair)\n",
        "        percentage = (count / len(self.sequence)) * 100\n",
        "        return count, percentage\n",
        "\n",
        "gene = Gene(first_seq)\n",
        "\n",
        "base_pairs = ['CG', 'GC', 'AT']\n",
        "\n",
        "print(\"\\n These arenBase Pair Counts and Percentages:\")\n",
        "for bp in base_pairs:\n",
        "    count, percentage = gene.base_pair_percentage(bp)\n",
        "    print(f\"{bp}: Count = {count}, Percentage = {percentage:.2f}%\")\n"
      ],
      "metadata": {
        "colab": {
          "base_uri": "https://localhost:8080/",
          "height": 0
        },
        "id": "ToPmF3QJHd5V",
        "outputId": "3103d1bd-4f2a-48c6-ac7e-8c932b423e52"
      },
      "execution_count": 186,
      "outputs": [
        {
          "output_type": "stream",
          "name": "stdout",
          "text": [
            "\n",
            " These arenBase Pair Counts and Percentages:\n",
            "CG: Count = 18, Percentage = 0.69%\n",
            "GC: Count = 77, Percentage = 2.94%\n",
            "AT: Count = 256, Percentage = 9.78%\n"
          ]
        }
      ]
    }
  ]
}